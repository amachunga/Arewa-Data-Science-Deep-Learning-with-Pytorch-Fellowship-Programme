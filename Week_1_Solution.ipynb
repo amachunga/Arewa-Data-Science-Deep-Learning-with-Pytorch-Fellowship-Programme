{
  "cells": [
    {
      "cell_type": "markdown",
      "source": [
        "# AREWA DATA SCIENCE ACADEMY\n",
        "\n",
        "***Deep Learning Cohort 2.0***\n",
        "\n",
        "**Name:** Amalai Rham Machunga\n",
        "\n",
        "**Email:** amachunga@gmail.com\n",
        "\n",
        "**Title:** Week 1 Solution\n",
        "\n"
      ],
      "metadata": {
        "id": "WOX2yPMJ68jY"
      }
    },
    {
      "cell_type": "markdown",
      "metadata": {
        "id": "AzDBM_v4iMe7"
      },
      "source": [
        "# 00. PyTorch Fundamentals Exercises\n",
        "\n",
        "### 1. Documentation reading\n",
        "\n",
        "A big part of deep learning (and learning to code in general) is getting familiar with the documentation of a certain framework you're using. We'll be using the PyTorch documentation a lot throughout the rest of this course. So I'd recommend spending 10-minutes reading the following (it's okay if you don't get some things for now, the focus is not yet full understanding, it's awareness):\n",
        "  * The documentation on [`torch.Tensor`](https://pytorch.org/docs/stable/tensors.html#torch-tensor).\n",
        "  * The documentation on [`torch.cuda`](https://pytorch.org/docs/master/notes/cuda.html#cuda-semantics).\n",
        "\n"
      ]
    },
    {
      "cell_type": "code",
      "execution_count": 107,
      "metadata": {
        "id": "bGD0oD8Kizak"
      },
      "outputs": [],
      "source": [
        "# No code solution (reading)"
      ]
    },
    {
      "cell_type": "markdown",
      "metadata": {
        "id": "__iXqqz-ioUJ"
      },
      "source": [
        "### 2. Create a random tensor with shape `(7, 7)`.\n"
      ]
    },
    {
      "cell_type": "code",
      "execution_count": 108,
      "metadata": {
        "id": "6pUq9Dc8i2L7",
        "colab": {
          "base_uri": "https://localhost:8080/"
        },
        "outputId": "7c0fb116-411a-46c8-9baf-5588ab0e3c1e"
      },
      "outputs": [
        {
          "output_type": "stream",
          "name": "stdout",
          "text": [
            "RANDOM TENSOR:\n",
            " tensor([[0.8549, 0.5509, 0.2868, 0.2063, 0.4451, 0.3593, 0.7204],\n",
            "        [0.0731, 0.9699, 0.1078, 0.8829, 0.4132, 0.7572, 0.6948],\n",
            "        [0.5209, 0.5932, 0.8797, 0.6286, 0.7653, 0.1132, 0.8559],\n",
            "        [0.6721, 0.6267, 0.5691, 0.7437, 0.9592, 0.3887, 0.2214],\n",
            "        [0.3742, 0.1953, 0.7405, 0.2529, 0.2332, 0.9314, 0.9575],\n",
            "        [0.5575, 0.4134, 0.4355, 0.7369, 0.0331, 0.0914, 0.8994],\n",
            "        [0.9936, 0.4703, 0.1049, 0.5137, 0.2674, 0.4990, 0.7447]]) torch.Size([7, 7])\n"
          ]
        }
      ],
      "source": [
        "# Import torch\n",
        "import torch\n",
        "\n",
        "\n",
        "# Create random tensor\n",
        "rand_tensor_x = torch.rand(7, 7)\n",
        "print(\"RANDOM TENSOR:\\n\", rand_tensor_x, rand_tensor_x.size())\n"
      ]
    },
    {
      "cell_type": "markdown",
      "metadata": {
        "id": "9-XxvRLfiqkR"
      },
      "source": [
        "### 3. Perform a matrix multiplication on the tensor from 2 with another random tensor with shape `(1, 7)` (hint: you may have to transpose the second tensor)."
      ]
    },
    {
      "cell_type": "code",
      "execution_count": 109,
      "metadata": {
        "id": "NcLqR0Sbi_vT",
        "colab": {
          "base_uri": "https://localhost:8080/"
        },
        "outputId": "52668e2c-f366-4837-9fb7-eca157efa428"
      },
      "outputs": [
        {
          "output_type": "stream",
          "name": "stdout",
          "text": [
            "tensor([[1.6914],\n",
            "        [1.7581],\n",
            "        [2.0906],\n",
            "        [1.8975],\n",
            "        [1.7585],\n",
            "        [1.7961],\n",
            "        [1.8900]]) torch.Size([7, 1])\n"
          ]
        }
      ],
      "source": [
        "# Create another random tensor\n",
        "rand_tensor_y = torch.rand(1, 7)\n",
        "\n",
        "# Transpose y\n",
        "tansposed_tensor_y = rand_tensor_y.t()\n",
        "\n",
        "# Perform matrix multiplication\n",
        "multi_z = torch.matmul(rand_tensor_x, tansposed_tensor_y)\n",
        "print(multi_z, multi_z.size())\n"
      ]
    },
    {
      "cell_type": "markdown",
      "metadata": {
        "id": "eiutdKUFiryU"
      },
      "source": [
        "### 4. Set the random seed to `0` and do 2 & 3 over again.\n",
        "\n",
        "The output should be:\n",
        "```\n",
        "(tensor([[1.8542],\n",
        "         [1.9611],\n",
        "         [2.2884],\n",
        "         [3.0481],\n",
        "         [1.7067],\n",
        "         [2.5290],\n",
        "         [1.7989]]), torch.Size([7, 1]))\n",
        "```"
      ]
    },
    {
      "cell_type": "code",
      "execution_count": 110,
      "metadata": {
        "id": "D-lOWI_1jRMm",
        "colab": {
          "base_uri": "https://localhost:8080/"
        },
        "outputId": "2b6d14f0-d63e-4363-dcb3-9d77772118ea"
      },
      "outputs": [
        {
          "output_type": "stream",
          "name": "stdout",
          "text": [
            "TENSOR a:\n",
            " tensor([[0.4963, 0.7682, 0.0885, 0.1320, 0.3074, 0.6341, 0.4901],\n",
            "        [0.8964, 0.4556, 0.6323, 0.3489, 0.4017, 0.0223, 0.1689],\n",
            "        [0.2939, 0.5185, 0.6977, 0.8000, 0.1610, 0.2823, 0.6816],\n",
            "        [0.9152, 0.3971, 0.8742, 0.4194, 0.5529, 0.9527, 0.0362],\n",
            "        [0.1852, 0.3734, 0.3051, 0.9320, 0.1759, 0.2698, 0.1507],\n",
            "        [0.0317, 0.2081, 0.9298, 0.7231, 0.7423, 0.5263, 0.2437],\n",
            "        [0.5846, 0.0332, 0.1387, 0.2422, 0.8155, 0.7932, 0.2783]]) torch.Size([7, 7])\n",
            "-----------------------------------------------------------------------\n",
            "TENSOR b:\n",
            " tensor([[0.4820, 0.8198, 0.9971, 0.6984, 0.5675, 0.8352, 0.2056]]) torch.Size([1, 7])\n",
            "-----------------------------------------------------------------------\n",
            "Multiplication Result:\n",
            " tensor([[1.8542],\n",
            "        [1.9611],\n",
            "        [2.2884],\n",
            "        [3.0481],\n",
            "        [1.7067],\n",
            "        [2.5290],\n",
            "        [1.7989]]) torch.Size([7, 1])\n"
          ]
        }
      ],
      "source": [
        "# Set manual seed\n",
        "torch.manual_seed(0)\n",
        "\n",
        "\n",
        "# Create two random tensors\n",
        "rand_tensor_a = torch.rand(7, 7)\n",
        "print(\"TENSOR a:\\n\", rand_tensor_a, rand_tensor_a.size())\n",
        "\n",
        "print(\"-----------------------------------------------------------------------\")\n",
        "\n",
        "rand_tensor_b = torch.rand(1, 7)\n",
        "print(\"TENSOR b:\\n\", rand_tensor_b, rand_tensor_b.size())\n",
        "\n",
        "# Transpose tensor b\n",
        "transposed_tensor_b = rand_tensor_b.t()\n",
        "\n",
        "print(\"-----------------------------------------------------------------------\")\n",
        "\n",
        "# Matrix multiply tensors\n",
        "Multi_c = torch.matmul(rand_tensor_a, transposed_tensor_b)\n",
        "print(\"Multiplication Result:\\n\", Multi_c, Multi_c.size())"
      ]
    },
    {
      "cell_type": "markdown",
      "metadata": {
        "id": "ezY6ks9Cis37"
      },
      "source": [
        "### 5. Speaking of random seeds, we saw how to set it with `torch.manual_seed()` but is there a GPU equivalent? (hint: you'll need to look into the documentation for `torch.cuda` for this one)\n",
        "  * If there is, set the GPU random seed to `1234`."
      ]
    },
    {
      "cell_type": "code",
      "execution_count": 111,
      "metadata": {
        "id": "_LKWcfSTjp00",
        "colab": {
          "base_uri": "https://localhost:8080/"
        },
        "outputId": "d3787ae2-ce88-4bfb-e54c-6b55a6dc8c30"
      },
      "outputs": [
        {
          "output_type": "stream",
          "name": "stdout",
          "text": [
            "GPU is available\n"
          ]
        }
      ],
      "source": [
        "# Set random seed on the GPU\n",
        "if torch.cuda.is_available():\n",
        "    torch.cuda.manual_seed_all(1234)\n",
        "    print(\"GPU is available\")\n",
        "else:\n",
        "    print(\"NO GPU available\")\n",
        "\n"
      ]
    },
    {
      "cell_type": "markdown",
      "metadata": {
        "id": "Ir9qSaj6it4n"
      },
      "source": [
        "\n",
        "### 6. Create two random tensors of shape `(2, 3)` and send them both to the GPU (you'll need access to a GPU for this). Set `torch.manual_seed(1234)` when creating the tensors (this doesn't have to be the GPU random seed). The output should be something like:\n",
        "\n",
        "```\n",
        "Device: cuda\n",
        "(tensor([[0.0290, 0.4019, 0.2598],\n",
        "         [0.3666, 0.0583, 0.7006]], device='cuda:0'),\n",
        " tensor([[0.0518, 0.4681, 0.6738],\n",
        "         [0.3315, 0.7837, 0.5631]], device='cuda:0'))\n",
        "```"
      ]
    },
    {
      "cell_type": "code",
      "execution_count": 112,
      "metadata": {
        "id": "azXExiFZj5nm",
        "colab": {
          "base_uri": "https://localhost:8080/"
        },
        "outputId": "fe763bdb-28fa-40b5-8c4d-e8619e357bcc"
      },
      "outputs": [
        {
          "output_type": "stream",
          "name": "stdout",
          "text": [
            "GPU available\n",
            "-----------------------------------------------------------------------\n",
            "Tensor A:\n",
            " tensor([[0.0290, 0.4019, 0.2598],\n",
            "        [0.3666, 0.0583, 0.7006]], device='cuda:0') torch.Size([2, 3])\n",
            "-----------------------------------------------------------------------\n",
            "Tensor B:\n",
            " tensor([[0.0518, 0.4681, 0.6738],\n",
            "        [0.3315, 0.7837, 0.5631]], device='cuda:0') torch.Size([2, 3])\n"
          ]
        }
      ],
      "source": [
        "# Set random seed\n",
        "torch.manual_seed(1234)\n",
        "\n",
        "# Check for access to GPU\n",
        "if torch.cuda.is_available():\n",
        "    print(\"GPU available\")\n",
        "else:\n",
        "    print(\"GPU not available\")\n",
        "\n",
        "print(\"-----------------------------------------------------------------------\")\n",
        "\n",
        "# Create two random tensors on GPU\n",
        "\n",
        "rand_tensor_A = torch.rand(2, 3).cuda()\n",
        "print(\"Tensor A:\\n\", rand_tensor_A, rand_tensor_A.size())\n",
        "\n",
        "print(\"-----------------------------------------------------------------------\")\n",
        "\n",
        "rand_tensor_B = torch.rand(2, 3).cuda()\n",
        "print(\"Tensor B:\\n\", rand_tensor_B, rand_tensor_B.size())"
      ]
    },
    {
      "cell_type": "markdown",
      "metadata": {
        "id": "5TlAxeiSiu1y"
      },
      "source": [
        "\n",
        "### 7. Perform a matrix multiplication on the tensors you created in 6 (again, you may have to adjust the shapes of one of the tensors).\n",
        "\n",
        "The output should look like:\n",
        "```\n",
        "(tensor([[0.3647, 0.4709],\n",
        "         [0.5184, 0.5617]], device='cuda:0'), torch.Size([2, 2]))\n",
        "```"
      ]
    },
    {
      "cell_type": "code",
      "execution_count": 113,
      "metadata": {
        "id": "fAeG7ox0lHEO",
        "colab": {
          "base_uri": "https://localhost:8080/"
        },
        "outputId": "6f11854a-7496-40b6-b38e-1d1af1caf5a9"
      },
      "outputs": [
        {
          "output_type": "stream",
          "name": "stdout",
          "text": [
            "TRANSPOSED MATRIX:\n",
            " tensor([[0.0518, 0.3315],\n",
            "        [0.4681, 0.7837],\n",
            "        [0.6738, 0.5631]], device='cuda:0') torch.Size([3, 2])\n",
            "-----------------------------------------------------------------------\n",
            "MULTIPLICATION RESULT\n",
            " tensor([[0.3647, 0.4709],\n",
            "        [0.5184, 0.5617]], device='cuda:0') torch.Size([2, 2])\n"
          ]
        }
      ],
      "source": [
        "# Perform matmul on tensor_A and tensor_B\n",
        "\n",
        "Tranposed_tensor_B = rand_tensor_B.t()\n",
        "print(\"TRANSPOSED MATRIX:\\n\", Tranposed_tensor_B, Tranposed_tensor_B.size())\n",
        "\n",
        "print(\"-----------------------------------------------------------------------\")\n",
        "\n",
        "multi_result = torch.matmul(rand_tensor_A, Tranposed_tensor_B)\n",
        "print(\"MULTIPLICATION RESULT\\n\", multi_result, multi_result.size())\n",
        "\n",
        "\n"
      ]
    },
    {
      "cell_type": "markdown",
      "metadata": {
        "id": "G7qfa5CSivwg"
      },
      "source": [
        "### 8. Find the maximum and minimum values of the output of 7."
      ]
    },
    {
      "cell_type": "code",
      "execution_count": 114,
      "metadata": {
        "id": "Fu8_3mZpllOd",
        "colab": {
          "base_uri": "https://localhost:8080/"
        },
        "outputId": "cdb684a7-fef9-4038-b19f-e17be0dfb6e5"
      },
      "outputs": [
        {
          "output_type": "stream",
          "name": "stdout",
          "text": [
            "MAX VALUE:\n",
            " tensor(0.5617, device='cuda:0')\n",
            "-----------------------------------------------------------------------\n",
            "MIN VALUE:\n",
            " tensor(0.3647, device='cuda:0')\n"
          ]
        }
      ],
      "source": [
        "# Find max\n",
        "max_value = torch.max(multi_result)\n",
        "print(\"MAX VALUE:\\n\", max_value)\n",
        "\n",
        "print(\"-----------------------------------------------------------------------\")\n",
        "\n",
        "# Find min\n",
        "min_value = torch.min(multi_result)\n",
        "print(\"MIN VALUE:\\n\", min_value)\n"
      ]
    },
    {
      "cell_type": "markdown",
      "metadata": {
        "id": "wrTj5FgNiw47"
      },
      "source": [
        "### 9. Find the maximum and minimum index values of the output of 7."
      ]
    },
    {
      "cell_type": "code",
      "execution_count": 115,
      "metadata": {
        "id": "CCEKt4K2lsfQ",
        "colab": {
          "base_uri": "https://localhost:8080/"
        },
        "outputId": "b0e02841-ca74-431a-8517-cbf68325e70d"
      },
      "outputs": [
        {
          "output_type": "stream",
          "name": "stdout",
          "text": [
            "MAX INDEX: \n",
            " tensor(3, device='cuda:0')\n",
            "-----------------------------------------------------------------------\n",
            "MIN INDEX: \n",
            " tensor(0, device='cuda:0')\n"
          ]
        }
      ],
      "source": [
        "# Find arg max\n",
        "max_index = torch.argmax(multi_result)\n",
        "print(\"MAX INDEX: \\n\", max_index)\n",
        "\n",
        "print(\"-----------------------------------------------------------------------\")\n",
        "\n",
        "# Find arg min\n",
        "min_index = torch.argmin(multi_result)\n",
        "print(\"MIN INDEX: \\n\", min_index)\n"
      ]
    },
    {
      "cell_type": "markdown",
      "metadata": {
        "id": "hmeybz4uixy7"
      },
      "source": [
        "\n",
        "### 10. Make a random tensor with shape `(1, 1, 1, 10)` and then create a new tensor with all the `1` dimensions removed to be left with a tensor of shape `(10)`. Set the seed to `7` when you create it and print out the first tensor and it's shape as well as the second tensor and it's shape.\n",
        "\n",
        "The output should look like:\n",
        "\n",
        "```\n",
        "tensor([[[[0.5349, 0.1988, 0.6592, 0.6569, 0.2328, 0.4251, 0.2071, 0.6297,\n",
        "           0.3653, 0.8513]]]]) torch.Size([1, 1, 1, 10])\n",
        "tensor([0.5349, 0.1988, 0.6592, 0.6569, 0.2328, 0.4251, 0.2071, 0.6297, 0.3653,\n",
        "        0.8513]) torch.Size([10])\n",
        "```"
      ]
    },
    {
      "cell_type": "code",
      "execution_count": 116,
      "metadata": {
        "id": "TQ9zbRzVl1jV",
        "colab": {
          "base_uri": "https://localhost:8080/"
        },
        "outputId": "e41ce72e-8d96-4f39-a5d1-1b8933e6529b"
      },
      "outputs": [
        {
          "output_type": "stream",
          "name": "stdout",
          "text": [
            "RANDOM TENSOR:\n",
            " tensor([[[[0.5349, 0.1988, 0.6592, 0.6569, 0.2328, 0.4251, 0.2071, 0.6297,\n",
            "           0.3653, 0.8513]]]]) torch.Size([1, 1, 1, 10])\n",
            "SQUEEZED TENSOR:\n",
            " tensor([0.5349, 0.1988, 0.6592, 0.6569, 0.2328, 0.4251, 0.2071, 0.6297, 0.3653,\n",
            "        0.8513]) torch.Size([10])\n",
            "-----------------------------------------------------------------------\n",
            "RANDOM TENSOR:\n",
            " tensor([[[[0.5349, 0.1988, 0.6592, 0.6569, 0.2328, 0.4251, 0.2071, 0.6297,\n",
            "           0.3653, 0.8513]]]]) torch.Size([1, 1, 1, 10])\n",
            "SQUEEZED TENSOR:\n",
            " tensor([0.5349, 0.1988, 0.6592, 0.6569, 0.2328, 0.4251, 0.2071, 0.6297, 0.3653,\n",
            "        0.8513]) torch.Size([10])\n"
          ]
        }
      ],
      "source": [
        "# Set seed\n",
        "torch.manual_seed(7)\n",
        "\n",
        "\n",
        "# Create random tensor\n",
        "rand_tensor_x = torch.rand(1, 1, 1, 10)\n",
        "print(\"RANDOM TENSOR:\\n\", rand_tensor_x, rand_tensor_x.size())\n",
        "\n",
        "\n",
        "# Remove single dimensions\n",
        "squeezed_tensor = torch.squeeze(rand_tensor_x)\n",
        "print(\"SQUEEZED TENSOR:\\n\", squeezed_tensor, squeezed_tensor.size())\n",
        "\n",
        "\n",
        "# Print out tensors and their shapes\n",
        "print(\"-----------------------------------------------------------------------\")\n",
        "print(\"RANDOM TENSOR:\\n\", rand_tensor_x, rand_tensor_x.size())\n",
        "print(\"SQUEEZED TENSOR:\\n\", squeezed_tensor, squeezed_tensor.size())\n",
        "\n"
      ]
    }
  ],
  "metadata": {
    "accelerator": "GPU",
    "colab": {
      "provenance": []
    },
    "kernelspec": {
      "display_name": "Python 3",
      "name": "python3"
    },
    "language_info": {
      "codemirror_mode": {
        "name": "ipython",
        "version": 3
      },
      "file_extension": ".py",
      "mimetype": "text/x-python",
      "name": "python",
      "nbconvert_exporter": "python",
      "pygments_lexer": "ipython3",
      "version": "3.12.1"
    }
  },
  "nbformat": 4,
  "nbformat_minor": 0
}